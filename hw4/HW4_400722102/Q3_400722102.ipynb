{
  "nbformat": 4,
  "nbformat_minor": 0,
  "metadata": {
    "colab": {
      "name": "Q3.ipynb",
      "provenance": [],
      "collapsed_sections": []
    },
    "kernelspec": {
      "name": "python3",
      "display_name": "Python 3"
    },
    "language_info": {
      "name": "python"
    }
  },
  "cells": [
    {
      "cell_type": "code",
      "metadata": {
        "id": "f71Va0zrj7-4"
      },
      "source": [
        "#### Import library ####\n",
        "import numpy as np\n",
        "import cv2 as cv\n",
        "import matplotlib.pyplot as plt\n",
        "import scipy.fftpack as fftpack\n",
        "from scipy.fft import ifft, idct \n",
        "from PIL import Image as im"
      ],
      "execution_count": 18,
      "outputs": []
    },
    {
      "cell_type": "code",
      "metadata": {
        "id": "fOv28GNXTmd0"
      },
      "source": [
        "#### Vectors ####\n",
        "\n",
        "a = [-27, -17, -15, -3, 11, -4, -1, 0, 0, -1, -1, 0, 2, 0, 0, 0, 0, 0, 0, 0, 0, 0, 0, 0, 1, 'EOB']\n",
        "b = [-27, 17, -15, -3, -11, -4, 1, 0, 0, -1, -1, 0, 2, 0, 0, 0, 0, 0, 0, 0, 0, 0, 0, 0, -1, 'EOB']\n",
        "c = [-27, -17, 15, -3, -11, -4, -1, 0, 0, 1, -1, 0, 2, 0, 0, 0, 0, 0, 0, 0, 0, 0, 0, 0, -1, 'EOB']\n",
        "d = [-27, 17, 15, -3, 11, -4, 1, 0, 0, 1, -1, 0, 2, 0, 0, 0, 0, 0, 0, 0, 0, 0, 0, 0, 1, 'EOB']"
      ],
      "execution_count": 19,
      "outputs": []
    },
    {
      "cell_type": "code",
      "metadata": {
        "id": "ueCuYeNPOf2j"
      },
      "source": [
        "#### Matrix Quantization ####\n",
        "\n",
        "Z = np.array([[16,11,10,16,24,40,51,61],\n",
        "              [12,12,14,19,26,58,60,55],\n",
        "              [14,13,16,24,40,57,69,56],\n",
        "              [14,17,22,29,51,87,80,62],\n",
        "              [18,22,37,56,68,109,103,77],\n",
        "              [24,35,55,64,81,104,113,92],\n",
        "              [49,64,78,87,103,121,120,101],\n",
        "              [72,92,95,98,112,100,130,99]])"
      ],
      "execution_count": 20,
      "outputs": []
    },
    {
      "cell_type": "code",
      "metadata": {
        "id": "jqtK-QMeUvZ_"
      },
      "source": [
        "#### Define Image Show Function ####\n",
        "def show(array):\n",
        "  img = np.zeros([8,8],dtype=np.uint8)\n",
        "  img.fill(0) \n",
        "  for i in range(8):\n",
        "    for j in range(8):\n",
        "      img[i][j] = array [i][j]\n",
        "  return img"
      ],
      "execution_count": 3,
      "outputs": []
    },
    {
      "cell_type": "code",
      "metadata": {
        "id": "bg97Ly_UVw3V"
      },
      "source": [
        "#### Define vector_to_matrix Function ####\n",
        "def Vecmat(vector):\n",
        "  zeros = [[0 for row in range(8)] for row in range(8)]\n",
        "  i = 0 \n",
        "  j = 0\n",
        "  sum2 = 14\n",
        "  k =0 \n",
        "  for sum in range(0, sum2 +1):\n",
        "    if sum %2 == 0 :\n",
        "      for i in range( 0,sum+1):\n",
        "        if a[k] != 'EOB':\n",
        "          zeros[ sum - i][i] = vector[k]\n",
        "          k = k+1\n",
        "        else :\n",
        "          break \n",
        "    else :\n",
        "      for i in range( 0,sum+1):\n",
        "        if vector[k] != 'EOB':\n",
        "          zeros[i][sum -i] = vector[k]\n",
        "          k = k+1\n",
        "        else :\n",
        "          break\n",
        "  return np.array(zeros)"
      ],
      "execution_count": 2,
      "outputs": []
    },
    {
      "cell_type": "code",
      "metadata": {
        "id": "fUvzqL2HVnWN"
      },
      "source": [
        "#### Define JPEG Decompression Function #####\n",
        "\n",
        "def jpeg_decompress(T_hat, Z):\n",
        "\n",
        "  T_dot = [[0 for row in range(8)] for row in range(8)]\n",
        "  b = T_hat * Z\n",
        "  idctb = cv.idct(np.float32(b))\n",
        "  T_dot = np.around(idctb+ 128)\n",
        "\n",
        "\n",
        "  # Please set norm='ortho' in Discrete Cobine Transform Function in fftpack\n",
        " \n",
        "  return T_dot"
      ],
      "execution_count": 9,
      "outputs": []
    },
    {
      "cell_type": "markdown",
      "metadata": {
        "id": "e8YNCHK4f6Mc"
      },
      "source": [
        "# **A)**"
      ]
    },
    {
      "cell_type": "code",
      "metadata": {
        "id": "v0f3LCALWOze",
        "colab": {
          "base_uri": "https://localhost:8080/",
          "height": 265
        },
        "outputId": "28fb38e0-4a7a-4431-f999-ad70cfea0b9d"
      },
      "source": [
        "####  Decompress Vector \"a\"  ####\n",
        "#### Show Decompressed Image ####\n",
        "image1 = show(jpeg_decompress(Vecmat(a) , Z))\n",
        "imgplot = plt.imshow(image1 , cmap = 'gray')\n",
        "plt.show()"
      ],
      "execution_count": 11,
      "outputs": [
        {
          "output_type": "display_data",
          "data": {
            "image/png": "[encoded data removed]",
            "text/plain": [
              "<Figure size 432x288 with 1 Axes>"
            ]
          },
          "metadata": {
            "needs_background": "light"
          }
        }
      ]
    },
    {
      "cell_type": "markdown",
      "metadata": {
        "id": "16aWoo_dgC16"
      },
      "source": [
        "# **B)**"
      ]
    },
    {
      "cell_type": "code",
      "metadata": {
        "id": "71akXvy9ujjD",
        "colab": {
          "base_uri": "https://localhost:8080/",
          "height": 934
        },
        "outputId": "90018fea-ab18-423c-8ab8-c9d3d04c2fb0"
      },
      "source": [
        "#### Decompress Vector \"b\", \"c\" And \"d\" ####\n",
        "from mpl_toolkits.axes_grid1 import ImageGrid\n",
        "image2 = show(jpeg_decompress(Vecmat(b) , Z))\n",
        "image3 = show(jpeg_decompress(Vecmat(c) , Z))\n",
        "image4 = show(jpeg_decompress(Vecmat(d) , Z))\n",
        "\n",
        "fig = plt.figure(figsize=(16,16))\n",
        "grid = ImageGrid(fig, 111,  \n",
        "                 nrows_ncols=(3, 1), \n",
        "                 axes_pad=1,  \n",
        "                 )\n",
        "\n",
        "\n",
        "grid[0].imshow(image2,cmap='gray')\n",
        "grid[0].set_title('b vector')\n",
        "grid[0].axis('off')\n",
        "grid[1].imshow(image3, cmap='gray')\n",
        "grid[1].set_title('c vector')\n",
        "grid[1].axis('off')\n",
        "grid[2].imshow(image4 , cmap = 'gray')\n",
        "grid[2].set_title('d vector')\n",
        "grid[2].axis('off')"
      ],
      "execution_count": 17,
      "outputs": [
        {
          "output_type": "execute_result",
          "data": {
            "text/plain": [
              "(-0.5, 7.5, 7.5, -0.5)"
            ]
          },
          "metadata": {},
          "execution_count": 17
        },
        {
          "output_type": "display_data",
          "data": {
            "image/png": "[encoded data removed]",
            "text/plain": [
              "<Figure size 1152x1152 with 6 Axes>"
            ]
          },
          "metadata": {
            "needs_background": "light"
          }
        }
      ]
    },
    {
      "cell_type": "code",
      "metadata": {
        "id": "oj2EaarQaCSp",
        "colab": {
          "base_uri": "https://localhost:8080/",
          "height": 265
        },
        "outputId": "dd4e66aa-9dbc-4d41-e926-9a7859223785"
      },
      "source": [
        "#### Concatenate Decompressed Images ####\n",
        "####     Show Concatenated Image     ####\n",
        "imag = np.zeros([16,16],dtype=np.uint8)\n",
        "imag.fill(255) \n",
        "for i in range(8):\n",
        "  for j in range(8):\n",
        "      imag[i][j] = image1[i][j]\n",
        "for i in range(8):\n",
        "  for j in range(8 , 16):\n",
        "      imag[i][j] = image2[i][j-8]\n",
        "for i in range(8 , 16):\n",
        "  for j in range(8):\n",
        "      imag[i][j] = image3[i-8][j]\n",
        "for i in range(8 , 16):\n",
        "  for j in range(8 , 16):\n",
        "      imag[i][j] = image4[i-8][j-8]\n",
        "\n",
        "mgplot = plt.imshow(imag , cmap = 'gray')\n",
        "plt.show()\n"
      ],
      "execution_count": 21,
      "outputs": [
        {
          "output_type": "display_data",
          "data": {
            "image/png": "[encoded data removed]",
            "text/plain": [
              "<Figure size 432x288 with 1 Axes>"
            ]
          },
          "metadata": {
            "needs_background": "light"
          }
        }
      ]
    }
  ]
}