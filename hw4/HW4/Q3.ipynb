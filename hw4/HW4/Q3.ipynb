{
  "nbformat": 4,
  "nbformat_minor": 0,
  "metadata": {
    "colab": {
      "name": "Q3.ipynb",
      "provenance": [],
      "collapsed_sections": []
    },
    "kernelspec": {
      "name": "python3",
      "display_name": "Python 3"
    },
    "language_info": {
      "name": "python"
    }
  },
  "cells": [
    {
      "cell_type": "code",
      "metadata": {
        "id": "f71Va0zrj7-4"
      },
      "source": [
        "#### Import library ####\n",
        "import numpy as np\n",
        "import cv2 as cv\n",
        "import matplotlib.pyplot as plt\n",
        "import scipy.fftpack as fftpack"
      ],
      "execution_count": null,
      "outputs": []
    },
    {
      "cell_type": "code",
      "metadata": {
        "id": "fOv28GNXTmd0"
      },
      "source": [
        "#### Vectors ####\n",
        "\n",
        "a = [-27, -17, -15, -3, 11, -4, -1, 0, 0, -1, -1, 0, 2, 0, 0, 0, 0, 0, 0, 0, 0, 0, 0, 0, 1, 'EOB']\n",
        "b = [-27, 17, -15, -3, -11, -4, 1, 0, 0, -1, -1, 0, 2, 0, 0, 0, 0, 0, 0, 0, 0, 0, 0, 0, -1, 'EOB']\n",
        "c = [-27, -17, 15, -3, -11, -4, -1, 0, 0, 1, -1, 0, 2, 0, 0, 0, 0, 0, 0, 0, 0, 0, 0, 0, -1, 'EOB']\n",
        "d = [-27, 17, 15, -3, 11, -4, 1, 0, 0, 1, -1, 0, 2, 0, 0, 0, 0, 0, 0, 0, 0, 0, 0, 0, 1, 'EOB']"
      ],
      "execution_count": null,
      "outputs": []
    },
    {
      "cell_type": "code",
      "metadata": {
        "id": "ueCuYeNPOf2j"
      },
      "source": [
        "#### Matrix Quantization ####\n",
        "\n",
        "Z = np.array([[16,11,10,16,24,40,51,61],\n",
        "              [12,12,14,19,26,58,60,55],\n",
        "              [14,13,16,24,40,57,69,56],\n",
        "              [14,17,22,29,51,87,80,62],\n",
        "              [18,22,37,56,68,109,103,77],\n",
        "              [24,35,55,64,81,104,113,92],\n",
        "              [49,64,78,87,103,121,120,101],\n",
        "              [72,92,95,98,112,100,130,99]])"
      ],
      "execution_count": null,
      "outputs": []
    },
    {
      "cell_type": "code",
      "metadata": {
        "id": "jqtK-QMeUvZ_"
      },
      "source": [
        "#### Define Image Show Function ####\n"
      ],
      "execution_count": null,
      "outputs": []
    },
    {
      "cell_type": "code",
      "metadata": {
        "id": "bg97Ly_UVw3V"
      },
      "source": [
        "#### Define vector_to_matrix Function ####\n"
      ],
      "execution_count": null,
      "outputs": []
    },
    {
      "cell_type": "code",
      "metadata": {
        "id": "fUvzqL2HVnWN"
      },
      "source": [
        "#### Define JPEG Decompression Function #####\n",
        "\n",
        "def jpeg_decompress(T_hat, Z):\n",
        "\n",
        "  # Please set norm='ortho' in Discrete Cosine Transform Function in fftpack\n",
        " \n",
        "  return T_dot"
      ],
      "execution_count": null,
      "outputs": []
    },
    {
      "cell_type": "markdown",
      "metadata": {
        "id": "e8YNCHK4f6Mc"
      },
      "source": [
        "# **A)**"
      ]
    },
    {
      "cell_type": "code",
      "metadata": {
        "id": "v0f3LCALWOze"
      },
      "source": [
        "####  Decompress Vector \"a\"  ####\n",
        "#### Show Decompressed Image ####\n"
      ],
      "execution_count": null,
      "outputs": []
    },
    {
      "cell_type": "markdown",
      "metadata": {
        "id": "16aWoo_dgC16"
      },
      "source": [
        "# **B)**"
      ]
    },
    {
      "cell_type": "code",
      "metadata": {
        "id": "71akXvy9ujjD"
      },
      "source": [
        "#### Decompress Vector \"b\", \"c\" And \"d\" ####\n",
        "\n"
      ],
      "execution_count": null,
      "outputs": []
    },
    {
      "cell_type": "code",
      "metadata": {
        "id": "oj2EaarQaCSp"
      },
      "source": [
        "#### Concatenate Decompressed Images ####\n",
        "####     Show Concatenated Image     ####\n",
        "\n"
      ],
      "execution_count": null,
      "outputs": []
    }
  ]
}