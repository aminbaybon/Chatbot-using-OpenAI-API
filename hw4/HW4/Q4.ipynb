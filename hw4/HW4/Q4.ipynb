{
  "nbformat": 4,
  "nbformat_minor": 0,
  "metadata": {
    "colab": {
      "name": "Q4.ipynb",
      "provenance": [],
      "collapsed_sections": []
    },
    "kernelspec": {
      "name": "python3",
      "display_name": "Python 3"
    },
    "language_info": {
      "name": "python"
    }
  },
  "cells": [
    {
      "cell_type": "code",
      "metadata": {
        "id": "pY7JCxU9xcNP"
      },
      "source": [
        "#### Import library ####\n",
        "import numpy as np\n",
        "import matplotlib.pyplot as plt\n",
        "import cv2 as cv\n",
        "from scipy.fftpack import fft2, ifft2"
      ],
      "execution_count": null,
      "outputs": []
    },
    {
      "cell_type": "code",
      "metadata": {
        "id": "yKlkGe2F2qts"
      },
      "source": [
        "#### Define Image And Sensor Read Function ####\n"
      ],
      "execution_count": null,
      "outputs": []
    },
    {
      "cell_type": "code",
      "metadata": {
        "id": "2drDfm7cbbe_"
      },
      "source": [
        "#### Define Image Show Function ####\n"
      ],
      "execution_count": null,
      "outputs": []
    },
    {
      "cell_type": "markdown",
      "metadata": {
        "id": "kv3qEje2gtqo"
      },
      "source": [
        "#**A)**"
      ]
    },
    {
      "cell_type": "code",
      "metadata": {
        "id": "PvVt0i7_dbg9"
      },
      "source": [
        "#### Read And Show Image ####\n"
      ],
      "execution_count": null,
      "outputs": []
    },
    {
      "cell_type": "code",
      "metadata": {
        "id": "pZfcZJ8etlEC"
      },
      "source": [
        "#### Read Sensor ####\n"
      ],
      "execution_count": null,
      "outputs": []
    },
    {
      "cell_type": "code",
      "metadata": {
        "id": "sLnhUZpz2XK9"
      },
      "source": [
        "#### Define Degradation Function ####\n",
        "def degrade(image, psf):\n",
        "\n",
        "    # Rescale Your Result to [0-255], Then Return Output\n",
        "    return # Degraded Image #"
      ],
      "execution_count": null,
      "outputs": []
    },
    {
      "cell_type": "code",
      "metadata": {
        "id": "s9XUy2INbHb0"
      },
      "source": [
        "####    Degrade Image    ####\n",
        "#### Show Degraded Image ####\n"
      ],
      "execution_count": null,
      "outputs": []
    }
  ]
}