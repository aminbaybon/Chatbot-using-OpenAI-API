{
  "nbformat": 4,
  "nbformat_minor": 0,
  "metadata": {
    "colab": {
      "name": "HW2_YourStudentID.ipynb",
      "provenance": [],
      "collapsed_sections": []
    },
    "kernelspec": {
      "name": "python3",
      "display_name": "Python 3"
    },
    "language_info": {
      "name": "python"
    }
  },
  "cells": [
    {
      "cell_type": "code",
      "metadata": {
        "id": "TIWWDlxhl02B"
      },
      "source": [
        "import cv2\n",
        "import numpy as np\n",
        "from matplotlib import pyplot as plt\n",
        "from google.colab.patches import cv2_imshow"
      ],
      "execution_count": 30,
      "outputs": []
    },
    {
      "cell_type": "markdown",
      "metadata": {
        "id": "piG_r-0eJ1Vw"
      },
      "source": [
        "#Q1"
      ]
    },
    {
      "cell_type": "markdown",
      "metadata": {
        "id": "IZa-VCMRbfO8"
      },
      "source": [
        "Q1_Part1"
      ]
    },
    {
      "cell_type": "code",
      "metadata": {
        "id": "gcggzErabetV"
      },
      "source": [
        "def equalization(image):\n",
        "  '''\n",
        "  you can use libraries\n",
        "  input(s):\n",
        "    image (ndarray): input image\n",
        "  output(s):\n",
        "    image (ndarray): improved image\n",
        "  '''\n",
        "  #your code here\n",
        "  return image"
      ],
      "execution_count": 2,
      "outputs": []
    },
    {
      "cell_type": "markdown",
      "metadata": {
        "id": "PfDHHVkUb9iE"
      },
      "source": [
        "Q1_Part2"
      ]
    },
    {
      "cell_type": "code",
      "metadata": {
        "id": "OoIaVlpxT8Vw"
      },
      "source": [
        "def ACE(image, gridSize):\n",
        "  '''\n",
        "  you can just use the equalize function of OpenCV for each grid\n",
        "  input(s):\n",
        "    image (ndarray): input image\n",
        "  output(s):\n",
        "    image (ndarray): improved image\n",
        "  '''\n",
        "  #your code here\n",
        "  return image  "
      ],
      "execution_count": 13,
      "outputs": []
    },
    {
      "cell_type": "markdown",
      "metadata": {
        "id": "Jm31bT7DcEM1"
      },
      "source": [
        "Q1_Part3"
      ]
    },
    {
      "cell_type": "code",
      "metadata": {
        "id": "7m6PHYG7T9zL"
      },
      "source": [
        "def CLAHE(image, gridSize, cropThreshold):\n",
        "  '''\n",
        "  you can just use the equalize function of OpenCV for each grid\n",
        "  input(s):\n",
        "    image (ndarray): input image\n",
        "  output(s):\n",
        "    image (ndarray): improved image\n",
        "  '''\n",
        "  #your code here\n",
        "  return image"
      ],
      "execution_count": 7,
      "outputs": []
    },
    {
      "cell_type": "code",
      "metadata": {
        "id": "RtVYmbp9ZazH"
      },
      "source": [
        "image = cv2.imread('gray.png',0)\n",
        "fig = plt.figure(figsize=(12, 12))\n",
        "result_equalization = equalization(image)\n",
        "fig.add_subplot(1, 3, 1)\n",
        "plt.imshow(result_equalization)\n",
        "result_ACE = ACE(image, (8,8))\n",
        "fig.add_subplot(1, 3, 2)\n",
        "plt.imshow(result_ACE)\n",
        "result_CLAHE = CLAHE(image, (8,8), 2.0)\n",
        "fig.add_subplot(1, 3, 3)\n",
        "plt.imshow(result_CLAHE)"
      ],
      "execution_count": null,
      "outputs": []
    },
    {
      "cell_type": "code",
      "metadata": {
        "id": "uqtGObhDjKtr"
      },
      "source": [
        "image = cv2.imread('color.png')\n",
        "fig = plt.figure(figsize=(12, 12))\n",
        "result_equalize = equalization(image)\n",
        "fig.add_subplot(1, 3, 1)\n",
        "plt.imshow(result_equalize)\n",
        "result_ACE = ACE(image, (8,8))\n",
        "fig.add_subplot(1, 3, 2)\n",
        "plt.imshow(result_ACE)\n",
        "result_CLAHE = CLAHE(image, (8,8), 2.0)\n",
        "fig.add_subplot(1, 3, 3)\n",
        "plt.imshow(result_CLAHE)"
      ],
      "execution_count": null,
      "outputs": []
    },
    {
      "cell_type": "markdown",
      "metadata": {
        "id": "DLAc0s2RJweS"
      },
      "source": [
        "# Q3"
      ]
    },
    {
      "cell_type": "markdown",
      "metadata": {
        "id": "XisYVyoMIxX4"
      },
      "source": [
        "Q3_Part1"
      ]
    },
    {
      "cell_type": "code",
      "metadata": {
        "id": "BdvQkENkIXMo"
      },
      "source": [
        ""
      ],
      "execution_count": null,
      "outputs": []
    },
    {
      "cell_type": "markdown",
      "metadata": {
        "id": "m7edKNmtI0eu"
      },
      "source": [
        "Q3_Part2"
      ]
    },
    {
      "cell_type": "code",
      "metadata": {
        "id": "yWo87hIbI2gW"
      },
      "source": [
        ""
      ],
      "execution_count": null,
      "outputs": []
    },
    {
      "cell_type": "markdown",
      "metadata": {
        "id": "zt7DonopI424"
      },
      "source": [
        "Q3_Part3"
      ]
    },
    {
      "cell_type": "code",
      "metadata": {
        "id": "Ab5PFgghI_FP"
      },
      "source": [
        ""
      ],
      "execution_count": null,
      "outputs": []
    },
    {
      "cell_type": "markdown",
      "metadata": {
        "id": "SDyMYtFeI_9e"
      },
      "source": [
        "Q3_Part4"
      ]
    },
    {
      "cell_type": "code",
      "metadata": {
        "id": "w_vSmwzfJB2k"
      },
      "source": [
        ""
      ],
      "execution_count": null,
      "outputs": []
    },
    {
      "cell_type": "markdown",
      "metadata": {
        "id": "TgsX39Q2JCYu"
      },
      "source": [
        "Q3_Part5"
      ]
    },
    {
      "cell_type": "code",
      "metadata": {
        "id": "Nv-rAYLSJD4q"
      },
      "source": [
        ""
      ],
      "execution_count": null,
      "outputs": []
    },
    {
      "cell_type": "markdown",
      "metadata": {
        "id": "5BbzmudoJEi3"
      },
      "source": [
        "Q3_Part6"
      ]
    },
    {
      "cell_type": "code",
      "metadata": {
        "id": "JRfT6FQHJGTD"
      },
      "source": [
        ""
      ],
      "execution_count": null,
      "outputs": []
    }
  ]
}