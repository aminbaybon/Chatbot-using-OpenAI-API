{
  "nbformat": 4,
  "nbformat_minor": 0,
  "metadata": {
    "colab": {
      "name": "HW9_YOLO.ipynb",
      "provenance": []
    },
    "kernelspec": {
      "name": "python3",
      "display_name": "Python 3"
    },
    "language_info": {
      "name": "python"
    },
    "accelerator": "GPU"
  },
  "cells": [
    {
      "cell_type": "markdown",
      "source": [
        "#A: Do not change below cell, just run it"
      ],
      "metadata": {
        "id": "ONNJ1v_IFF8z"
      }
    },
    {
      "cell_type": "code",
      "source": [
        "!wget http://host.robots.ox.ac.uk/pascal/VOC/voc2007/VOCtrainval_06-Nov-2007.tar\n",
        "!wget http://host.robots.ox.ac.uk/pascal/VOC/voc2007/VOCtest_06-Nov-2007.tar\n",
        "\n",
        "!tar xvf VOCtrainval_06-Nov-2007.tar\n",
        "!tar xvf VOCtest_06-Nov-2007.tar\n",
        "\n",
        "!rm VOCtrainval_06-Nov-2007.tar\n",
        "!rm VOCtest_06-Nov-2007.tar\n",
        "\n",
        "!rm -r /content/VOCdevkit/VOC2007/Annotations\n",
        "!rm -r /content/VOCdevkit/VOC2007/ImageSets\n",
        "!rm -r /content/VOCdevkit/VOC2007/SegmentationClass/\n",
        "!rm -r /content/VOCdevkit/VOC2007/SegmentationObject\n",
        "\n",
        "!gdown --id 1ZU2cim1iw-o3SWtf2XLxYOGJQv6GRC-v\n",
        "!gdown --id 1HLhuo0Gw3fE_l320AwYYDcUVu9_jDQCq\n",
        "!gdown --id 10ZYfoqBziUxvS4yBtJtUrxXEYxZFnZMk"
      ],
      "metadata": {
        "id": "sIMFZyKn_FJG"
      },
      "execution_count": null,
      "outputs": []
    },
    {
      "cell_type": "markdown",
      "source": [
        "Format of data :\n",
        "\n",
        "path bounding box for object class bounding box of another object in this image class........"
      ],
      "metadata": {
        "id": "IKDqRgZ_Fadh"
      }
    },
    {
      "cell_type": "markdown",
      "source": [
        "classes_num = {'aeroplane': 0, 'bicycle': 1, 'bird': 2, 'boat': 3, 'bottle': 4, 'bus': 5,\n",
        "               'car': 6, 'cat': 7, 'chair': 8, 'cow': 9, 'diningtable': 10, 'dog': 11,\n",
        "               'horse': 12, 'motorbike': 13, 'person': 14, 'pottedplant': 15, 'sheep': 16,\n",
        "               'sofa': 17, 'train': 18, 'tvmonitor': 19}"
      ],
      "metadata": {
        "id": "b7G7h_TkF1If"
      }
    },
    {
      "cell_type": "markdown",
      "source": [
        "#B: implement YOLO from scratch, train and Test"
      ],
      "metadata": {
        "id": "gsfIoe3GDWHw"
      }
    },
    {
      "cell_type": "markdown",
      "source": [
        "The input is a (448, 448, 3) image and the output is a (7, 7, 30) tensor. The output is based on S x S x (B * 5 +C).\n",
        "\n",
        "S X S is the number of grids B is the number of bounding boxes per grid C is the number of predictions per grid"
      ],
      "metadata": {
        "id": "Ejs2zUZRqbYf"
      }
    },
    {
      "cell_type": "markdown",
      "source": [
        "After FC layer you should be reshape output soyou need to define a custom layer so you can use [this link](https://keras.io/guides/making_new_layers_and_models_via_subclassing/) for definning cusom layer"
      ],
      "metadata": {
        "id": "HMJb4rkAqzqU"
      }
    },
    {
      "cell_type": "markdown",
      "source": [
        "you can use below links:\n",
        "\n",
        "[link1](https://www.youtube.com/watch?v=ag3DLKsl2vk)\n",
        "\n",
        "[link2](https://www.youtube.com/watch?v=2hAiJe8ITsE)"
      ],
      "metadata": {
        "id": "fdgRYpQmwA5g"
      }
    },
    {
      "cell_type": "code",
      "source": [
        ""
      ],
      "metadata": {
        "id": "1nMRHzLQIdYK"
      },
      "execution_count": null,
      "outputs": []
    },
    {
      "cell_type": "markdown",
      "source": [
        "#C: preferential"
      ],
      "metadata": {
        "id": "cyEjOW5gDu04"
      }
    },
    {
      "cell_type": "code",
      "source": [
        "#اhint : https://github.com/AlexeyAB/darknet\n",
        "#hint : https://colab.research.google.com/drive/12QusaaRj_lUwCGDvQNfICpa7kA7_a2dE#scrollTo=ikgv38AdKldo\n",
        "#hint : https://medium.com/analytics-vidhya/train-a-custom-yolov4-object-detector-using-google-colab-61a659d4868"
      ],
      "metadata": {
        "id": "m7u8YRIHDw2v"
      },
      "execution_count": null,
      "outputs": []
    }
  ]
}